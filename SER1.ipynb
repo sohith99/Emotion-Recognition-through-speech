{
 "cells": [
  {
   "cell_type": "code",
   "execution_count": 24,
   "metadata": {},
   "outputs": [
    {
     "name": "stdout",
     "output_type": "stream",
     "text": [
      "Requirement already satisfied: librosa in c:\\users\\gundr\\anaconda3\\lib\\site-packages (0.8.0)\n",
      "Requirement already satisfied: soundfile in c:\\users\\gundr\\anaconda3\\lib\\site-packages (0.10.3.post1)\n",
      "Requirement already satisfied: numpy in c:\\users\\gundr\\anaconda3\\lib\\site-packages (1.16.5)\n",
      "Requirement already satisfied: sklearn in c:\\users\\gundr\\anaconda3\\lib\\site-packages (0.0)\n",
      "Requirement already satisfied: pyaudio in c:\\users\\gundr\\anaconda3\\lib\\site-packages (0.2.11)\n",
      "Requirement already satisfied: scikit-learn!=0.19.0,>=0.14.0 in c:\\users\\gundr\\anaconda3\\lib\\site-packages (from librosa) (0.21.3)\n",
      "Requirement already satisfied: decorator>=3.0.0 in c:\\users\\gundr\\anaconda3\\lib\\site-packages (from librosa) (4.4.0)\n",
      "Requirement already satisfied: joblib>=0.14 in c:\\users\\gundr\\anaconda3\\lib\\site-packages (from librosa) (1.0.1)\n",
      "Requirement already satisfied: scipy>=1.0.0 in c:\\users\\gundr\\anaconda3\\lib\\site-packages (from librosa) (1.3.1)\n",
      "Requirement already satisfied: audioread>=2.0.0 in c:\\users\\gundr\\anaconda3\\lib\\site-packages (from librosa) (2.1.9)\n",
      "Requirement already satisfied: numba>=0.43.0 in c:\\users\\gundr\\anaconda3\\lib\\site-packages (from librosa) (0.45.1)\n",
      "Requirement already satisfied: resampy>=0.2.2 in c:\\users\\gundr\\anaconda3\\lib\\site-packages (from librosa) (0.2.2)\n",
      "Requirement already satisfied: pooch>=1.0 in c:\\users\\gundr\\anaconda3\\lib\\site-packages (from librosa) (1.3.0)\n",
      "Requirement already satisfied: cffi>=1.0 in c:\\users\\gundr\\anaconda3\\lib\\site-packages (from soundfile) (1.12.3)\n",
      "Requirement already satisfied: llvmlite>=0.29.0dev0 in c:\\users\\gundr\\anaconda3\\lib\\site-packages (from numba>=0.43.0->librosa) (0.29.0)\n",
      "Requirement already satisfied: six>=1.3 in c:\\users\\gundr\\anaconda3\\lib\\site-packages (from resampy>=0.2.2->librosa) (1.12.0)\n",
      "Requirement already satisfied: packaging in c:\\users\\gundr\\anaconda3\\lib\\site-packages (from pooch>=1.0->librosa) (19.2)\n",
      "Requirement already satisfied: requests in c:\\users\\gundr\\anaconda3\\lib\\site-packages (from pooch>=1.0->librosa) (2.22.0)\n",
      "Requirement already satisfied: appdirs in c:\\users\\gundr\\anaconda3\\lib\\site-packages (from pooch>=1.0->librosa) (1.4.4)\n",
      "Requirement already satisfied: pycparser in c:\\users\\gundr\\anaconda3\\lib\\site-packages (from cffi>=1.0->soundfile) (2.19)\n",
      "Requirement already satisfied: pyparsing>=2.0.2 in c:\\users\\gundr\\anaconda3\\lib\\site-packages (from packaging->pooch>=1.0->librosa) (2.4.2)\n",
      "Requirement already satisfied: chardet<3.1.0,>=3.0.2 in c:\\users\\gundr\\anaconda3\\lib\\site-packages (from requests->pooch>=1.0->librosa) (3.0.4)\n",
      "Requirement already satisfied: certifi>=2017.4.17 in c:\\users\\gundr\\anaconda3\\lib\\site-packages (from requests->pooch>=1.0->librosa) (2019.9.11)\n",
      "Requirement already satisfied: idna<2.9,>=2.5 in c:\\users\\gundr\\anaconda3\\lib\\site-packages (from requests->pooch>=1.0->librosa) (2.8)\n",
      "Requirement already satisfied: urllib3!=1.25.0,!=1.25.1,<1.26,>=1.21.1 in c:\\users\\gundr\\anaconda3\\lib\\site-packages (from requests->pooch>=1.0->librosa) (1.24.2)\n",
      "Note: you may need to restart the kernel to use updated packages.\n"
     ]
    }
   ],
   "source": [
    "pip install librosa soundfile numpy sklearn pyaudio"
   ]
  },
  {
   "cell_type": "code",
   "execution_count": 25,
   "metadata": {},
   "outputs": [
    {
     "name": "stdout",
     "output_type": "stream",
     "text": [
      "Requirement already satisfied: soundfile in c:\\users\\gundr\\anaconda3\\lib\\site-packages (0.10.3.post1)\n",
      "Requirement already satisfied: cffi>=1.0 in c:\\users\\gundr\\anaconda3\\lib\\site-packages (from soundfile) (1.12.3)\n",
      "Requirement already satisfied: pycparser in c:\\users\\gundr\\anaconda3\\lib\\site-packages (from cffi>=1.0->soundfile) (2.19)\n",
      "Note: you may need to restart the kernel to use updated packages.\n"
     ]
    }
   ],
   "source": [
    "pip install soundfile"
   ]
  },
  {
   "cell_type": "code",
   "execution_count": 26,
   "metadata": {},
   "outputs": [],
   "source": [
    "import librosa\n",
    "import soundfile\n",
    "import os, glob, pickle\n",
    "import numpy as np\n",
    "from sklearn.model_selection import train_test_split\n",
    "from sklearn.neural_network import MLPClassifier\n",
    "from sklearn.metrics import accuracy_score"
   ]
  },
  {
   "cell_type": "code",
   "execution_count": 27,
   "metadata": {},
   "outputs": [],
   "source": [
    "def extract_feature(file_name, mfcc, chroma, mel):\n",
    "    X, sample_rate = librosa.load(os.path.join(file_name), res_type='kaiser_fast')\n",
    "    if chroma:\n",
    "        stft=np.abs(librosa.stft(X))\n",
    "    result=np.array([])\n",
    "    if mfcc:\n",
    "        mfccs=np.mean(librosa.feature.mfcc(y=X, sr=sample_rate, n_mfcc=40).T, axis=0)\n",
    "        result=np.hstack((result, mfccs))\n",
    "    if chroma:\n",
    "        chroma=np.mean(librosa.feature.chroma_stft(S=stft, sr=sample_rate).T,axis=0)\n",
    "        result=np.hstack((result, chroma))\n",
    "    if mel:\n",
    "        mel=np.mean(librosa.feature.melspectrogram(X, sr=sample_rate).T,axis=0)\n",
    "        result=np.hstack((result, mel))\n",
    "    return result"
   ]
  },
  {
   "cell_type": "code",
   "execution_count": 28,
   "metadata": {},
   "outputs": [],
   "source": [
    "emotions={\n",
    "  '01':'neutral',\n",
    "  '02':'calm',\n",
    "  '03':'happy',\n",
    "  '04':'sad',\n",
    "  '05':'angry',\n",
    "  '06':'fearful',\n",
    "  '07':'disgust',\n",
    "  '08':'surprised'\n",
    "}\n",
    "# Emotions to observe\n",
    "observed_emotions=['neutral','calm','happy','sad','angry','fearful', 'disgust','surprised']\n"
   ]
  },
  {
   "cell_type": "code",
   "execution_count": 30,
   "metadata": {},
   "outputs": [],
   "source": [
    "def load_data(test_size=0.2):\n",
    "    x,y=[],[]\n",
    "    for file in glob.glob(\"C:/Users/gundr/3D Objects/Speech_Emotion_Detection-master/Speech_Emotion_Detection-master/speech-emotion-recognition-ravdess-data/Actor_*/*.wav\"):\n",
    "        file_name=os.path.basename(file)\n",
    "        emotion=emotions[file_name.split(\"-\")[2]]\n",
    "        if emotion not in observed_emotions:\n",
    "            continue\n",
    "        feature=extract_feature(file, mfcc=True, chroma=True, mel=True)\n",
    "        x.append(feature)\n",
    "        y.append(emotion)\n",
    "    return train_test_split(np.array(x), y, test_size=test_size, train_size= 0.80,random_state=9)"
   ]
  },
  {
   "cell_type": "code",
   "execution_count": 31,
   "metadata": {},
   "outputs": [],
   "source": [
    "import time\n",
    "x_train,x_test,y_train,y_test=load_data(test_size=0.20)"
   ]
  },
  {
   "cell_type": "code",
   "execution_count": 32,
   "metadata": {},
   "outputs": [
    {
     "name": "stdout",
     "output_type": "stream",
     "text": [
      "(1151, 288)\n"
     ]
    }
   ],
   "source": [
    "print((x_train.shape[0], x_test.shape[0]))"
   ]
  },
  {
   "cell_type": "code",
   "execution_count": 33,
   "metadata": {},
   "outputs": [
    {
     "name": "stdout",
     "output_type": "stream",
     "text": [
      "Features extracted: 180\n"
     ]
    }
   ],
   "source": [
    "print(f'Features extracted: {x_train.shape[1]}')"
   ]
  },
  {
   "cell_type": "code",
   "execution_count": 35,
   "metadata": {},
   "outputs": [],
   "source": [
    "model=MLPClassifier(alpha=0.01, batch_size=256, epsilon=1e-08, hidden_layer_sizes=(300,), learning_rate='adaptive', \n",
    "                    max_iter=500)"
   ]
  },
  {
   "cell_type": "code",
   "execution_count": 36,
   "metadata": {},
   "outputs": [
    {
     "data": {
      "text/plain": [
       "MLPClassifier(activation='relu', alpha=0.01, batch_size=256, beta_1=0.9,\n",
       "              beta_2=0.999, early_stopping=False, epsilon=1e-08,\n",
       "              hidden_layer_sizes=(300,), learning_rate='adaptive',\n",
       "              learning_rate_init=0.001, max_iter=500, momentum=0.9,\n",
       "              n_iter_no_change=10, nesterovs_momentum=True, power_t=0.5,\n",
       "              random_state=None, shuffle=True, solver='adam', tol=0.0001,\n",
       "              validation_fraction=0.1, verbose=False, warm_start=False)"
      ]
     },
     "execution_count": 36,
     "metadata": {},
     "output_type": "execute_result"
    }
   ],
   "source": [
    "model.fit(x_train,y_train)"
   ]
  },
  {
   "cell_type": "code",
   "execution_count": 38,
   "metadata": {},
   "outputs": [
    {
     "data": {
      "text/plain": [
       "MLPClassifier(activation='relu', alpha=0.01, batch_size=256, beta_1=0.9,\n",
       "              beta_2=0.999, early_stopping=False, epsilon=1e-08,\n",
       "              hidden_layer_sizes=(300,), learning_rate='adaptive',\n",
       "              learning_rate_init=0.001, max_iter=500, momentum=0.9,\n",
       "              n_iter_no_change=10, nesterovs_momentum=True, power_t=0.5,\n",
       "              random_state=None, shuffle=True, solver='adam', tol=0.0001,\n",
       "              validation_fraction=0.1, verbose=False, warm_start=False)"
      ]
     },
     "execution_count": 38,
     "metadata": {},
     "output_type": "execute_result"
    }
   ],
   "source": [
    "MLPClassifier(activation='relu', alpha=0.01, batch_size=256, beta_1=0.9,\n",
    "              beta_2=0.999, early_stopping=False, epsilon=1e-08,\n",
    "              hidden_layer_sizes=(300,), learning_rate='adaptive',\n",
    "              learning_rate_init=0.001, max_iter=500, momentum=0.9,\n",
    "              n_iter_no_change=10, nesterovs_momentum=True, power_t=0.5,\n",
    "              random_state=None, shuffle=True, solver='adam', tol=0.0001,\n",
    "              validation_fraction=0.1, verbose=False, warm_start=False)"
   ]
  },
  {
   "cell_type": "code",
   "execution_count": 39,
   "metadata": {},
   "outputs": [],
   "source": [
    "y_pred=model.predict(x_test)"
   ]
  },
  {
   "cell_type": "code",
   "execution_count": 40,
   "metadata": {},
   "outputs": [
    {
     "name": "stdout",
     "output_type": "stream",
     "text": [
      "Accuracy: 47.22%\n"
     ]
    }
   ],
   "source": [
    "accuracy=accuracy_score(y_true=y_test, y_pred=y_pred)\n",
    "# Print the accuracy\n",
    "print(\"Accuracy: {:.2f}%\".format(accuracy*100))"
   ]
  },
  {
   "cell_type": "code",
   "execution_count": 41,
   "metadata": {},
   "outputs": [
    {
     "name": "stdout",
     "output_type": "stream",
     "text": [
      "              precision    recall  f1-score   support\n",
      "\n",
      "       angry       0.87      0.49      0.62        41\n",
      "        calm       0.48      0.45      0.47        31\n",
      "     disgust       0.33      0.52      0.41        31\n",
      "     fearful       0.46      0.64      0.53        36\n",
      "       happy       0.68      0.48      0.57        54\n",
      "     neutral       0.27      0.40      0.32        25\n",
      "         sad       0.35      0.51      0.41        35\n",
      "   surprised       0.82      0.26      0.39        35\n",
      "\n",
      "    accuracy                           0.47       288\n",
      "   macro avg       0.53      0.47      0.47       288\n",
      "weighted avg       0.56      0.47      0.48       288\n",
      "\n"
     ]
    }
   ],
   "source": [
    "from sklearn.metrics import classification_report\n",
    "print(classification_report(y_test,y_pred))"
   ]
  },
  {
   "cell_type": "code",
   "execution_count": 42,
   "metadata": {},
   "outputs": [
    {
     "name": "stdout",
     "output_type": "stream",
     "text": [
      "[[20  0  7  1  4  3  5  1]\n",
      " [ 0 14  4  3  0  7  3  0]\n",
      " [ 0  2 16  4  1  3  5  0]\n",
      " [ 1  1  4 23  2  1  4  0]\n",
      " [ 1  2  7  9 26  5  3  1]\n",
      " [ 0  5  1  0  0 10  9  0]\n",
      " [ 1  3  0  8  1  4 18  0]\n",
      " [ 0  2  9  2  4  4  5  9]]\n"
     ]
    }
   ],
   "source": [
    "from sklearn.metrics import confusion_matrix\n",
    "matrix = confusion_matrix(y_test,y_pred)\n",
    "print (matrix)"
   ]
  },
  {
   "cell_type": "code",
   "execution_count": 43,
   "metadata": {},
   "outputs": [],
   "source": [
    "import pickle\n",
    "# Save the Model to file in the current working directory\n",
    "#For any new testing data other than the data in dataset\n",
    "\n",
    "Pkl_Filename = \"Emotion_Recognition_Through_Speech.pkl\"  \n",
    "\n",
    "with open(Pkl_Filename, 'wb') as file:  \n",
    "    pickle.dump(model, file)"
   ]
  },
  {
   "cell_type": "code",
   "execution_count": 44,
   "metadata": {},
   "outputs": [
    {
     "data": {
      "text/plain": [
       "MLPClassifier(activation='relu', alpha=0.01, batch_size=256, beta_1=0.9,\n",
       "              beta_2=0.999, early_stopping=False, epsilon=1e-08,\n",
       "              hidden_layer_sizes=(300,), learning_rate='adaptive',\n",
       "              learning_rate_init=0.001, max_iter=500, momentum=0.9,\n",
       "              n_iter_no_change=10, nesterovs_momentum=True, power_t=0.5,\n",
       "              random_state=None, shuffle=True, solver='adam', tol=0.0001,\n",
       "              validation_fraction=0.1, verbose=False, warm_start=False)"
      ]
     },
     "execution_count": 44,
     "metadata": {},
     "output_type": "execute_result"
    }
   ],
   "source": [
    "with open(Pkl_Filename, 'rb') as file:  \n",
    "    Emotion_Recognition_Through_Speech = pickle.load(file)\n",
    "\n",
    "Emotion_Recognition_Through_Speech"
   ]
  },
  {
   "cell_type": "code",
   "execution_count": 45,
   "metadata": {},
   "outputs": [
    {
     "data": {
      "text/plain": [
       "array(['disgust', 'sad', 'neutral', 'sad', 'neutral', 'angry', 'calm',\n",
       "       'happy', 'fearful', 'disgust', 'angry', 'happy', 'sad', 'fearful',\n",
       "       'happy', 'neutral', 'sad', 'disgust', 'fearful', 'neutral',\n",
       "       'happy', 'fearful', 'happy', 'fearful', 'fearful', 'neutral',\n",
       "       'sad', 'sad', 'sad', 'neutral', 'sad', 'fearful', 'happy',\n",
       "       'fearful', 'sad', 'neutral', 'calm', 'disgust', 'sad', 'fearful',\n",
       "       'happy', 'fearful', 'fearful', 'disgust', 'happy', 'calm', 'happy',\n",
       "       'disgust', 'happy', 'neutral', 'fearful', 'disgust', 'fearful',\n",
       "       'fearful', 'surprised', 'neutral', 'angry', 'disgust', 'happy',\n",
       "       'sad', 'disgust', 'sad', 'neutral', 'fearful', 'fearful', 'happy',\n",
       "       'disgust', 'sad', 'fearful', 'neutral', 'neutral', 'fearful',\n",
       "       'disgust', 'surprised', 'sad', 'sad', 'neutral', 'disgust', 'calm',\n",
       "       'happy', 'disgust', 'sad', 'disgust', 'happy', 'fearful', 'calm',\n",
       "       'fearful', 'fearful', 'neutral', 'calm', 'sad', 'fearful', 'calm',\n",
       "       'disgust', 'sad', 'calm', 'fearful', 'calm', 'fearful', 'neutral',\n",
       "       'calm', 'sad', 'neutral', 'neutral', 'neutral', 'angry', 'sad',\n",
       "       'disgust', 'sad', 'happy', 'sad', 'happy', 'disgust', 'neutral',\n",
       "       'calm', 'happy', 'fearful', 'happy', 'disgust', 'neutral',\n",
       "       'fearful', 'surprised', 'surprised', 'calm', 'disgust', 'happy',\n",
       "       'disgust', 'sad', 'neutral', 'disgust', 'angry', 'fearful',\n",
       "       'happy', 'sad', 'calm', 'fearful', 'sad', 'happy', 'surprised',\n",
       "       'happy', 'angry', 'disgust', 'angry', 'disgust', 'fearful',\n",
       "       'fearful', 'calm', 'calm', 'happy', 'disgust', 'disgust', 'calm',\n",
       "       'happy', 'angry', 'angry', 'angry', 'disgust', 'calm', 'angry',\n",
       "       'sad', 'disgust', 'disgust', 'disgust', 'calm', 'happy', 'sad',\n",
       "       'happy', 'sad', 'fearful', 'neutral', 'happy', 'angry', 'disgust',\n",
       "       'angry', 'disgust', 'neutral', 'neutral', 'sad', 'neutral', 'calm',\n",
       "       'disgust', 'happy', 'disgust', 'disgust', 'disgust', 'fearful',\n",
       "       'happy', 'neutral', 'disgust', 'sad', 'fearful', 'sad', 'neutral',\n",
       "       'angry', 'fearful', 'neutral', 'sad', 'fearful', 'angry',\n",
       "       'neutral', 'sad', 'fearful', 'fearful', 'calm', 'disgust',\n",
       "       'disgust', 'fearful', 'sad', 'calm', 'sad', 'fearful', 'neutral',\n",
       "       'fearful', 'fearful', 'disgust', 'sad', 'calm', 'sad', 'sad',\n",
       "       'angry', 'happy', 'sad', 'neutral', 'calm', 'fearful', 'angry',\n",
       "       'disgust', 'sad', 'disgust', 'sad', 'neutral', 'neutral',\n",
       "       'neutral', 'disgust', 'fearful', 'sad', 'calm', 'calm', 'calm',\n",
       "       'angry', 'disgust', 'surprised', 'surprised', 'neutral', 'angry',\n",
       "       'angry', 'calm', 'disgust', 'fearful', 'sad', 'neutral', 'fearful',\n",
       "       'happy', 'happy', 'surprised', 'neutral', 'sad', 'sad', 'angry',\n",
       "       'happy', 'angry', 'disgust', 'surprised', 'happy', 'sad',\n",
       "       'disgust', 'surprised', 'sad', 'fearful', 'happy', 'fearful',\n",
       "       'surprised', 'calm', 'sad', 'fearful', 'sad', 'sad', 'calm',\n",
       "       'happy', 'disgust', 'happy', 'happy', 'sad', 'fearful', 'sad',\n",
       "       'fearful', 'angry', 'disgust'], dtype='<U9')"
      ]
     },
     "execution_count": 45,
     "metadata": {},
     "output_type": "execute_result"
    }
   ],
   "source": [
    "A=Emotion_Recognition_Through_Speech.predict(x_test)\n",
    "A"
   ]
  },
  {
   "cell_type": "code",
   "execution_count": 46,
   "metadata": {},
   "outputs": [
    {
     "data": {
      "text/plain": [
       "array(['fearful'], dtype='<U9')"
      ]
     },
     "execution_count": 46,
     "metadata": {},
     "output_type": "execute_result"
    }
   ],
   "source": [
    "new_feature= extract_feature(\"C:/Users/gundr/3D Objects/Audio_Song_Actors_01-24/Actor_01/03-02-01-01-01-01-01.wav\",mfcc=True, chroma=True, mel=True)\n",
    "new_feature.shape\n",
    "Emotion_Recognition_Through_Speech.predict([new_feature])"
   ]
  },
  {
   "cell_type": "code",
   "execution_count": 47,
   "metadata": {},
   "outputs": [
    {
     "data": {
      "text/plain": [
       "array(['fearful'], dtype='<U9')"
      ]
     },
     "execution_count": 47,
     "metadata": {},
     "output_type": "execute_result"
    }
   ],
   "source": [
    "file = 'C:/Users/gundr/3D Objects/Audio_Song_Actors_01-24/Actor_01/03-02-01-01-01-01-01.wav'\n",
    "\n",
    "new_feature= extract_feature(file, mfcc=True, chroma=True, mel=True)\n",
    "\n",
    "\n",
    "Emotion_Recognition_Through_Speech.predict([new_feature])"
   ]
  },
  {
   "cell_type": "code",
   "execution_count": null,
   "metadata": {},
   "outputs": [],
   "source": []
  }
 ],
 "metadata": {
  "kernelspec": {
   "display_name": "Python 3",
   "language": "python",
   "name": "python3"
  },
  "language_info": {
   "codemirror_mode": {
    "name": "ipython",
    "version": 3
   },
   "file_extension": ".py",
   "mimetype": "text/x-python",
   "name": "python",
   "nbconvert_exporter": "python",
   "pygments_lexer": "ipython3",
   "version": "3.7.4"
  }
 },
 "nbformat": 4,
 "nbformat_minor": 5
}
